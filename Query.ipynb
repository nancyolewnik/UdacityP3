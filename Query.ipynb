{
 "cells": [
  {
   "cell_type": "code",
   "execution_count": 2,
   "metadata": {
    "collapsed": false
   },
   "outputs": [
    {
     "name": "stdout",
     "output_type": "stream",
     "text": [
      "Number of nodes:  2008669\n",
      "Number of ways:  265642\n",
      "Number of unique users:  1161\n",
      "Top contributing users:  [(u'Your Village Maps', 561562), (u'chachafish', 551036), (u'GPS_dr', 152106), (u'woodpeck_fixbot', 139217), (u'Stevestr', 127754), (u'DavidJDBA', 87372), (u'CornCO', 73601), (u'jjyach', 47854), (u'TheAverageNomad', 38628), (u'SeanMaday', 37249)]\n",
      "Number of users contributing once:  228\n",
      "Common ammenities:  (u'restaurant', 1237)\n",
      "Biggest religion:  (u'christian', 485)\n",
      "Popular cuisines:  (u'american', 119)\n"
     ]
    }
   ],
   "source": [
    "import csv\n",
    "import sqlite3\n",
    "from pprint import pprint\n",
    "\n",
    "def number_of_nodes():\n",
    "\tresult = cur.execute('SELECT COUNT(*) FROM nodes')\n",
    "\treturn result.fetchone()[0]\n",
    "\n",
    "def number_of_ways():\n",
    "\tresult = cur.execute('SELECT COUNT(*) FROM ways')\n",
    "\treturn result.fetchone()[0]\n",
    "\n",
    "def number_of_unique_users():\n",
    "\tresult = cur.execute('SELECT COUNT(DISTINCT(e.uid)) \\\n",
    "            FROM (SELECT uid FROM nodes UNION ALL SELECT uid FROM ways) e')\n",
    "\treturn result.fetchone()[0]\n",
    "    \n",
    "def top_contributing_users():\n",
    "\tusers = []\n",
    "\tfor row in cur.execute('SELECT e.user, COUNT(*) as num \\\n",
    "            FROM (SELECT user FROM nodes UNION ALL SELECT user FROM ways) e \\\n",
    "            GROUP BY e.user \\\n",
    "            ORDER BY num DESC \\\n",
    "            LIMIT 10'):\n",
    "\t\tusers.append(row)\n",
    "\treturn users\n",
    "\n",
    "def number_of_users_contributing_once():\n",
    "\tresult = cur.execute('SELECT COUNT(*) \\\n",
    "            FROM \\\n",
    "                (SELECT e.user, COUNT(*) as num \\\n",
    "                 FROM (SELECT user FROM nodes UNION ALL SELECT user FROM ways) e \\\n",
    "                 GROUP BY e.user \\\n",
    "                 HAVING num=1) u')\n",
    "\treturn result.fetchone()[0]\n",
    "\n",
    "def common_ammenities():\n",
    "\tfor row in cur.execute('SELECT value, COUNT(*) as num \\\n",
    "            FROM nodes_tags \\\n",
    "            WHERE key=\"amenity\" \\\n",
    "            GROUP BY value \\\n",
    "            ORDER BY num DESC \\\n",
    "            LIMIT 10'):\n",
    "\t\treturn row\n",
    "\n",
    "def biggest_religion():\n",
    "\tfor row in cur.execute('SELECT nodes_tags.value, COUNT(*) as num \\\n",
    "            FROM nodes_tags \\\n",
    "                JOIN (SELECT DISTINCT(id) FROM nodes_tags WHERE value=\"place_of_worship\") i \\\n",
    "                ON nodes_tags.id=i.id \\\n",
    "            WHERE nodes_tags.key=\"religion\" \\\n",
    "            GROUP BY nodes_tags.value \\\n",
    "            ORDER BY num DESC \\\n",
    "            LIMIT 1;'):\n",
    "\t\treturn row\n",
    "\n",
    "def popular_cuisines():\n",
    "\tfor row in cur.execute('SELECT nodes_tags.value, COUNT(*) as num \\\n",
    "            FROM nodes_tags \\\n",
    "                JOIN (SELECT DISTINCT(id) FROM nodes_tags WHERE value=\"restaurant\") i \\\n",
    "                ON nodes_tags.id=i.id \\\n",
    "            WHERE nodes_tags.key=\"cuisine\" \\\n",
    "            GROUP BY nodes_tags.value \\\n",
    "            ORDER BY num DESC'):\n",
    "\t\treturn row\n",
    "\n",
    "if __name__ == '__main__':\n",
    "\t\n",
    "\tcon = sqlite3.connect(\"DenverCO.db\")\n",
    "\tcur = con.cursor()\n",
    "\t\n",
    "\tprint \"Number of nodes: \" , number_of_nodes()\n",
    "\tprint \"Number of ways: \" , number_of_ways()\n",
    "\tprint \"Number of unique users: \" , number_of_unique_users()\n",
    "\tprint \"Top contributing users: \" , top_contributing_users()\n",
    "\tprint \"Number of users contributing once: \" , number_of_users_contributing_once()\n",
    "\tprint \"Common ammenities: \" , common_ammenities()\n",
    "\tprint \"Biggest religion: \" , biggest_religion()\n",
    "\tprint \"Popular cuisines: \" , popular_cuisines()"
   ]
  },
  {
   "cell_type": "code",
   "execution_count": null,
   "metadata": {
    "collapsed": true
   },
   "outputs": [],
   "source": []
  }
 ],
 "metadata": {
  "anaconda-cloud": {},
  "kernelspec": {
   "display_name": "Python [default]",
   "language": "python",
   "name": "python2"
  },
  "language_info": {
   "codemirror_mode": {
    "name": "ipython",
    "version": 2
   },
   "file_extension": ".py",
   "mimetype": "text/x-python",
   "name": "python",
   "nbconvert_exporter": "python",
   "pygments_lexer": "ipython2",
   "version": "2.7.12"
  }
 },
 "nbformat": 4,
 "nbformat_minor": 1
}
